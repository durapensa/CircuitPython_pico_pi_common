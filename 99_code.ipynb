{
 "cells": [
  {
   "cell_type": "code",
   "execution_count": null,
   "id": "binary-westminster",
   "metadata": {},
   "outputs": [],
   "source": [
    "# default_exp code"
   ]
  },
  {
   "cell_type": "markdown",
   "id": "interracial-berlin",
   "metadata": {},
   "source": [
    "# CircuitPython_pico_pi_common.code\n",
    "> Example code.py for CircuitPython"
   ]
  },
  {
   "cell_type": "code",
   "execution_count": null,
   "id": "gentle-transport",
   "metadata": {},
   "outputs": [
    {
     "ename": "ModuleNotFoundError",
     "evalue": "No module named 'CircuitPython_pico_pi_controller'",
     "output_type": "error",
     "traceback": [
      "\u001b[0;31m---------------------------------------------------------------------------\u001b[0m",
      "\u001b[0;31mModuleNotFoundError\u001b[0m                       Traceback (most recent call last)",
      "\u001b[0;32m<ipython-input-2-609f0ee28291>\u001b[0m in \u001b[0;36m<module>\u001b[0;34m\u001b[0m\n\u001b[1;32m      1\u001b[0m \u001b[0;31m# export\u001b[0m\u001b[0;34m\u001b[0m\u001b[0;34m\u001b[0m\u001b[0;34m\u001b[0m\u001b[0m\n\u001b[1;32m      2\u001b[0m \u001b[0;34m\u001b[0m\u001b[0m\n\u001b[0;32m----> 3\u001b[0;31m \u001b[0;32mfrom\u001b[0m \u001b[0mCircuitPython_pico_pi_controller\u001b[0m\u001b[0;34m.\u001b[0m\u001b[0mCircuitPython_pico_pi_controller\u001b[0m \u001b[0;32mimport\u001b[0m \u001b[0;34m*\u001b[0m\u001b[0;34m\u001b[0m\u001b[0;34m\u001b[0m\u001b[0m\n\u001b[0m\u001b[1;32m      4\u001b[0m \u001b[0;32mfrom\u001b[0m \u001b[0mCircuitPython_pico_pi_controller\u001b[0m\u001b[0;34m.\u001b[0m\u001b[0mreports\u001b[0m \u001b[0;32mimport\u001b[0m \u001b[0;34m*\u001b[0m\u001b[0;34m\u001b[0m\u001b[0;34m\u001b[0m\u001b[0m\n",
      "\u001b[0;31mModuleNotFoundError\u001b[0m: No module named 'CircuitPython_pico_pi_controller'"
     ]
    }
   ],
   "source": [
    "# export\n",
    "\n",
    "from CircuitPython_pico_pi_controller.CircuitPython_pico_pi_controller import *\n",
    "from CircuitPython_pico_pi_controller.reports import *"
   ]
  },
  {
   "cell_type": "code",
   "execution_count": null,
   "id": "facial-macro",
   "metadata": {},
   "outputs": [],
   "source": [
    "# export\n",
    "\n",
    "controller = PPController(save=False,bosmang=0x13)\n",
    "\n",
    "While True:\n",
    "    controller.png_ppds()\n",
    "    time.sleep(1)"
   ]
  },
  {
   "cell_type": "code",
   "execution_count": null,
   "id": "improved-slovakia",
   "metadata": {},
   "outputs": [],
   "source": [
    "# hide\n",
    "try:\n",
    "    from IPython.display import display, Javascript\n",
    "    display(Javascript('IPython.notebook.save_checkpoint();'))\n",
    "    from time import sleep\n",
    "    sleep(0.3)\n",
    "    from nbdev.export import notebook2script\n",
    "    notebook2script()\n",
    "except ModuleNotFoundError:\n",
    "    pass\n",
    "    \"\"\"CircuitPython kernel has no nbdev\"\"\"\n",
    "\n",
    "!!echo -e \"\\x02\\x04\" | tee -a /dev/ttyACM0\n",
    "%cp -v CircuitPython_pico_pi_common/code.py /CIRCUITPY/lib/CircuitPython_pico_pi_common/\n",
    "!!sleep (0.2)\n",
    "!!echo -e \"\\x04\" | tee -a /dev/ttyACM0"
   ]
  },
  {
   "cell_type": "code",
   "execution_count": null,
   "id": "specified-balloon",
   "metadata": {},
   "outputs": [],
   "source": []
  }
 ],
 "metadata": {
  "kernelspec": {
   "display_name": "CircuitPython",
   "language": "python",
   "name": "circuitpython"
  }
 },
 "nbformat": 4,
 "nbformat_minor": 5
}
