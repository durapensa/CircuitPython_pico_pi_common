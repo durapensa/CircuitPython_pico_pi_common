{
 "cells": [
  {
   "cell_type": "markdown",
   "metadata": {},
   "source": [
    "# CircuitPython_pico_pi_common\n",
    "\n",
    "> A library shared by Pico Pi Controller libraries"
   ]
  },
  {
   "cell_type": "code",
   "execution_count": null,
   "metadata": {},
   "outputs": [],
   "source": [
    "# default_exp core"
   ]
  },
  {
   "cell_type": "code",
   "execution_count": null,
   "metadata": {},
   "outputs": [],
   "source": [
    "# export\n",
    "# SPDX-FileCopyrightText: 2017 Scott Shawcroft, written for Adafruit Industries\n",
    "# SPDX-FileCopyrightText: Copyright (c) 2021 Durapensa\n",
    "#\n",
    "# SPDX-License-Identifier: MIT\n",
    "\"\"\"\n",
    "`pico_pi_common`\n",
    "================================================================================\n",
    "\n",
    "A library shared by Pico Pi Controller libraries\n",
    "\n",
    "\n",
    "* Author(s): Durapensa\n",
    "\n",
    "Implementation Notes\n",
    "--------------------\n",
    "\n",
    "**Hardware:**\n",
    "\n",
    "**Software and Dependencies:**\n",
    "\n",
    "* Adafruit CircuitPython firmware for the supported boards:\n",
    "  https://github.com/adafruit/circuitpython/releases\n",
    "\"\"\"\n",
    "\n",
    "# imports\n",
    "\n",
    "__version__ = \"0.0.0-auto.0\"\n",
    "__repo__ = \"https://github.com/durapensa/CircuitPython_pico_pi_common.git\""
   ]
  },
  {
   "cell_type": "code",
   "execution_count": null,
   "metadata": {},
   "outputs": [],
   "source": [
    "# hide\n",
    "from nbdev.showdoc import *"
   ]
  },
  {
   "cell_type": "code",
   "execution_count": null,
   "metadata": {},
   "outputs": [],
   "source": []
  }
 ],
 "metadata": {
  "kernelspec": {
   "display_name": "Python 3",
   "language": "python",
   "name": "python3"
  }
 },
 "nbformat": 4,
 "nbformat_minor": 2
}
